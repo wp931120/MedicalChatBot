{
 "cells": [
  {
   "cell_type": "code",
   "execution_count": 8,
   "id": "0be08bb0-84a7-44d7-8641-55b7e7c5ea92",
   "metadata": {},
   "outputs": [],
   "source": [
    "# import lancedb\n",
    "\n",
    "# uri = \"./data/sample-lancedb\"\n",
    "# db = lancedb.connect(uri)\n",
    "# table = db.create_table(\"my_table\",\n",
    "#                          data=[{\"vector\": [3.1, 4.1], \"item\": \"foo\", \"price\": 10.0},\n",
    "#                                {\"vector\": [5.9, 26.5], \"item\": \"bar\", \"price\": 20.0}])\n",
    "# result = table.search([100, 100]).limit(2).to_pandas()"
   ]
  },
  {
   "cell_type": "code",
   "execution_count": 6,
   "id": "33300c28-bb8b-49db-a028-ffa540882ec8",
   "metadata": {},
   "outputs": [],
   "source": [
    "import pandas as pd"
   ]
  },
  {
   "cell_type": "code",
   "execution_count": 93,
   "id": "ce248ee4-ab29-4b6e-a967-053b4b85fd6c",
   "metadata": {},
   "outputs": [
    {
     "name": "stdout",
     "output_type": "stream",
     "text": [
      "Downloading and preparing dataset json/default to C:/Users/131655/.cache/huggingface/datasets/json/default-380481cb1dbc2bf8/0.0.0/8bb11242116d547c741b2e8a1f18598ffdd40a1d4f2a2872c7a28b697434bc96...\n"
     ]
    },
    {
     "name": "stderr",
     "output_type": "stream",
     "text": [
      "Downloading data files: 100%|███████████████████████████████████████████████████████████| 1/1 [00:00<00:00, 938.95it/s]\n",
      "Extracting data files: 100%|████████████████████████████████████████████████████████████| 1/1 [00:00<00:00, 202.85it/s]\n",
      "                                                                      \r"
     ]
    },
    {
     "name": "stdout",
     "output_type": "stream",
     "text": [
      "Dataset json downloaded and prepared to C:/Users/131655/.cache/huggingface/datasets/json/default-380481cb1dbc2bf8/0.0.0/8bb11242116d547c741b2e8a1f18598ffdd40a1d4f2a2872c7a28b697434bc96. Subsequent calls will reuse this data.\n"
     ]
    },
    {
     "name": "stderr",
     "output_type": "stream",
     "text": [
      "100%|████████████████████████████████████████████████████████████████████████████████████| 1/1 [00:00<00:00,  5.63it/s]\n"
     ]
    }
   ],
   "source": [
    "import datasets \n",
    "data = datasets.load_dataset(\"json\",data_files = \"./data/train_zh_0.json\")"
   ]
  },
  {
   "cell_type": "code",
   "execution_count": 102,
   "id": "62eecb54-995e-4081-9b37-1f5b1cd89f28",
   "metadata": {},
   "outputs": [],
   "source": [
    "data_df = data[\"train\"].to_pandas()"
   ]
  },
  {
   "cell_type": "code",
   "execution_count": 103,
   "id": "7ea48be5-82cf-4582-827e-c9c42241c2b2",
   "metadata": {},
   "outputs": [],
   "source": [
    "data_df = data_df.head(20000)"
   ]
  },
  {
   "cell_type": "code",
   "execution_count": 24,
   "id": "2e94303d-768c-4cb0-8f3b-7c99d913802f",
   "metadata": {},
   "outputs": [],
   "source": [
    "import jieba\n",
    "import lancedb\n",
    "uri = \"./data/sample-lancedb\"\n",
    "db = lancedb.connect(uri)"
   ]
  },
  {
   "cell_type": "code",
   "execution_count": 108,
   "id": "a4508b91-b3ef-4c59-b333-da17635bd59a",
   "metadata": {},
   "outputs": [],
   "source": [
    "querys = data_df['instruction'].to_list()"
   ]
  },
  {
   "cell_type": "code",
   "execution_count": 109,
   "id": "63f8ffa4-2145-4ecc-b3c7-9a0d29fae67d",
   "metadata": {},
   "outputs": [],
   "source": [
    "ans = data_df['output'].to_list()"
   ]
  },
  {
   "cell_type": "code",
   "execution_count": 112,
   "id": "4fa4ab5e-93cd-4f7e-97b6-81e6d7059f83",
   "metadata": {},
   "outputs": [],
   "source": [
    "from sentence_transformers import SentenceTransformer\n",
    "model = SentenceTransformer('BAAI/bge-base-zh-v1.5')\n",
    "embeddings_query = model.encode(querys, normalize_embeddings=True)"
   ]
  },
  {
   "cell_type": "code",
   "execution_count": 122,
   "id": "9b96352d-4c6c-4c55-a655-0b231fab6a2c",
   "metadata": {},
   "outputs": [],
   "source": [
    "querys_seg = [\" \".join(jieba.lcut(i)) for i in  querys]"
   ]
  },
  {
   "cell_type": "code",
   "execution_count": 124,
   "id": "922c4faf-4047-4ae8-98ac-7ae298f41d92",
   "metadata": {},
   "outputs": [],
   "source": [
    "datas =[]\n",
    "for i in range(20000):\n",
    "    data = {}\n",
    "    data[\"query\"] = querys[i]\n",
    "    data[\"answer\"] = ans[i]\n",
    "    data[\"vector\"] = list(embeddings_query[i])\n",
    "    data[\"queryseg\"] = querys_seg[i]\n",
    "    datas.append(data)"
   ]
  },
  {
   "cell_type": "code",
   "execution_count": 125,
   "id": "40ba9a69-1557-46d2-b248-a6683dda4763",
   "metadata": {},
   "outputs": [],
   "source": [
    "\n",
    "\n",
    "table = db.create_table(\"medical\",datas)"
   ]
  },
  {
   "cell_type": "code",
   "execution_count": 126,
   "id": "67bd8bee-3b34-4237-8bf1-1d6f60a099dc",
   "metadata": {},
   "outputs": [
    {
     "data": {
      "text/html": [
       "<div>\n",
       "<style scoped>\n",
       "    .dataframe tbody tr th:only-of-type {\n",
       "        vertical-align: middle;\n",
       "    }\n",
       "\n",
       "    .dataframe tbody tr th {\n",
       "        vertical-align: top;\n",
       "    }\n",
       "\n",
       "    .dataframe thead th {\n",
       "        text-align: right;\n",
       "    }\n",
       "</style>\n",
       "<table border=\"1\" class=\"dataframe\">\n",
       "  <thead>\n",
       "    <tr style=\"text-align: right;\">\n",
       "      <th></th>\n",
       "      <th>query</th>\n",
       "      <th>answer</th>\n",
       "      <th>vector</th>\n",
       "      <th>queryseg</th>\n",
       "    </tr>\n",
       "  </thead>\n",
       "  <tbody>\n",
       "    <tr>\n",
       "      <th>0</th>\n",
       "      <td>血热的临床表现是什么?</td>\n",
       "      <td>初发或复发病不久。皮疹发展迅速，呈点滴状、钱币状或混合状。常见丘疹、斑丘疹、大小不等的斑片，...</td>\n",
       "      <td>[-0.011770768, 0.04241949, -0.0045774174, -0.0...</td>\n",
       "      <td>血热 的 临床表现 是 什么 ?</td>\n",
       "    </tr>\n",
       "  </tbody>\n",
       "</table>\n",
       "</div>"
      ],
      "text/plain": [
       "         query                                             answer  \\\n",
       "0  血热的临床表现是什么?  初发或复发病不久。皮疹发展迅速，呈点滴状、钱币状或混合状。常见丘疹、斑丘疹、大小不等的斑片，...   \n",
       "\n",
       "                                              vector          queryseg  \n",
       "0  [-0.011770768, 0.04241949, -0.0045774174, -0.0...  血热 的 临床表现 是 什么 ?  "
      ]
     },
     "execution_count": 126,
     "metadata": {},
     "output_type": "execute_result"
    }
   ],
   "source": [
    "table.to_pandas().head(1)"
   ]
  },
  {
   "cell_type": "code",
   "execution_count": 127,
   "id": "6a330b5d-2146-44e7-9acb-67f02e8867b5",
   "metadata": {},
   "outputs": [],
   "source": [
    "table.create_fts_index(\"queryseg\")"
   ]
  },
  {
   "cell_type": "code",
   "execution_count": 139,
   "id": "39fb7c1e-94a0-48aa-a2f2-70f7ef3b8de8",
   "metadata": {},
   "outputs": [],
   "source": [
    "data_text = table.search(\"怀孕 高血压 是 什么 原因\").limit(10).select([\"queryseg\"])"
   ]
  },
  {
   "cell_type": "code",
   "execution_count": 140,
   "id": "f858a22d-3b95-44f5-b6eb-af7c41cef8ca",
   "metadata": {},
   "outputs": [
    {
     "name": "stderr",
     "output_type": "stream",
     "text": [
      "C:\\Users\\131655\\AppData\\Local\\Temp\\ipykernel_18116\\1791037122.py:1: DeprecatedWarning: to_df is deprecated as of 0.3.1 and will be removed in 0.4.0. Use to_pandas() instead\n",
      "  data_text.to_df()\n"
     ]
    },
    {
     "data": {
      "text/html": [
       "<div>\n",
       "<style scoped>\n",
       "    .dataframe tbody tr th:only-of-type {\n",
       "        vertical-align: middle;\n",
       "    }\n",
       "\n",
       "    .dataframe tbody tr th {\n",
       "        vertical-align: top;\n",
       "    }\n",
       "\n",
       "    .dataframe thead th {\n",
       "        text-align: right;\n",
       "    }\n",
       "</style>\n",
       "<table border=\"1\" class=\"dataframe\">\n",
       "  <thead>\n",
       "    <tr style=\"text-align: right;\">\n",
       "      <th></th>\n",
       "      <th>queryseg</th>\n",
       "      <th>score</th>\n",
       "    </tr>\n",
       "  </thead>\n",
       "  <tbody>\n",
       "    <tr>\n",
       "      <th>0</th>\n",
       "      <td>怀孕 宫颈 出血 是 什么 原因</td>\n",
       "      <td>12.341222</td>\n",
       "    </tr>\n",
       "    <tr>\n",
       "      <th>1</th>\n",
       "      <td>怀孕 十一 周有 积液 是 什么 原因 引起 的</td>\n",
       "      <td>11.322922</td>\n",
       "    </tr>\n",
       "    <tr>\n",
       "      <th>2</th>\n",
       "      <td>怀孕 了 会 恶心 什么 原因 ， 本人 下体 特别 痒 ， 而且 内衣 上 总是 黄黄的 ...</td>\n",
       "      <td>9.998762</td>\n",
       "    </tr>\n",
       "    <tr>\n",
       "      <th>3</th>\n",
       "      <td>高血压 会 导致 中风 吗 ， 最近 去 看 我 爷爷 ， 发觉 爷爷 的 嘴巴 歪 着 ，...</td>\n",
       "      <td>9.527532</td>\n",
       "    </tr>\n",
       "    <tr>\n",
       "      <th>4</th>\n",
       "      <td>怀孕 三个 月 先兆 流产 的 原因</td>\n",
       "      <td>9.524203</td>\n",
       "    </tr>\n",
       "    <tr>\n",
       "      <th>5</th>\n",
       "      <td>高血压 危象 的 临床表现 是 什么 ?</td>\n",
       "      <td>9.136556</td>\n",
       "    </tr>\n",
       "    <tr>\n",
       "      <th>6</th>\n",
       "      <td>高血压 肾病 和 肾性 高血压 有 什么 不同 ？ ， 伯父 上个月 高血压 ， 家里人 赶...</td>\n",
       "      <td>9.134981</td>\n",
       "    </tr>\n",
       "    <tr>\n",
       "      <th>7</th>\n",
       "      <td>高血压 体格检查 是 怎么样 ？ ， 这 几天 有人 建议 我 去 医院 做 高血压 体格检...</td>\n",
       "      <td>9.096700</td>\n",
       "    </tr>\n",
       "    <tr>\n",
       "      <th>8</th>\n",
       "      <td>妊娠期 高血压 疾病 的 并发症 是 什么 ？</td>\n",
       "      <td>8.870636</td>\n",
       "    </tr>\n",
       "    <tr>\n",
       "      <th>9</th>\n",
       "      <td>继发性 高血压 的 疾病 病因 是 什么 ?</td>\n",
       "      <td>8.870636</td>\n",
       "    </tr>\n",
       "  </tbody>\n",
       "</table>\n",
       "</div>"
      ],
      "text/plain": [
       "                                            queryseg      score\n",
       "0                                   怀孕 宫颈 出血 是 什么 原因  12.341222\n",
       "1                           怀孕 十一 周有 积液 是 什么 原因 引起 的  11.322922\n",
       "2  怀孕 了 会 恶心 什么 原因 ， 本人 下体 特别 痒 ， 而且 内衣 上 总是 黄黄的 ...   9.998762\n",
       "3  高血压 会 导致 中风 吗 ， 最近 去 看 我 爷爷 ， 发觉 爷爷 的 嘴巴 歪 着 ，...   9.527532\n",
       "4                                 怀孕 三个 月 先兆 流产 的 原因   9.524203\n",
       "5                               高血压 危象 的 临床表现 是 什么 ?   9.136556\n",
       "6  高血压 肾病 和 肾性 高血压 有 什么 不同 ？ ， 伯父 上个月 高血压 ， 家里人 赶...   9.134981\n",
       "7  高血压 体格检查 是 怎么样 ？ ， 这 几天 有人 建议 我 去 医院 做 高血压 体格检...   9.096700\n",
       "8                            妊娠期 高血压 疾病 的 并发症 是 什么 ？   8.870636\n",
       "9                             继发性 高血压 的 疾病 病因 是 什么 ?   8.870636"
      ]
     },
     "execution_count": 140,
     "metadata": {},
     "output_type": "execute_result"
    }
   ],
   "source": [
    "data_text.to_df()"
   ]
  },
  {
   "cell_type": "code",
   "execution_count": 150,
   "id": "919cff65-eed3-46d2-ba46-baffd881bafd",
   "metadata": {},
   "outputs": [],
   "source": [
    "query_pred = model.encode(\"怀孕高血压疾病的推荐药有些什么？\", normalize_embeddings=True)"
   ]
  },
  {
   "cell_type": "code",
   "execution_count": 151,
   "id": "a80d68d3-a9c4-4491-8b3c-6f8ec4ebfe9e",
   "metadata": {},
   "outputs": [],
   "source": [
    "data_embed =  table.search(query_pred).limit(10)"
   ]
  },
  {
   "cell_type": "code",
   "execution_count": 152,
   "id": "29da6d57-b60d-4dda-853a-6a4a3b9e16b0",
   "metadata": {},
   "outputs": [
    {
     "name": "stderr",
     "output_type": "stream",
     "text": [
      "C:\\Users\\131655\\AppData\\Local\\Temp\\ipykernel_18116\\496871881.py:1: DeprecatedWarning: to_df is deprecated as of 0.3.1 and will be removed in 0.4.0. Use to_pandas() instead\n",
      "  data_embed.to_df()\n"
     ]
    },
    {
     "data": {
      "text/html": [
       "<div>\n",
       "<style scoped>\n",
       "    .dataframe tbody tr th:only-of-type {\n",
       "        vertical-align: middle;\n",
       "    }\n",
       "\n",
       "    .dataframe tbody tr th {\n",
       "        vertical-align: top;\n",
       "    }\n",
       "\n",
       "    .dataframe thead th {\n",
       "        text-align: right;\n",
       "    }\n",
       "</style>\n",
       "<table border=\"1\" class=\"dataframe\">\n",
       "  <thead>\n",
       "    <tr style=\"text-align: right;\">\n",
       "      <th></th>\n",
       "      <th>query</th>\n",
       "      <th>answer</th>\n",
       "      <th>vector</th>\n",
       "      <th>queryseg</th>\n",
       "      <th>_distance</th>\n",
       "    </tr>\n",
       "  </thead>\n",
       "  <tbody>\n",
       "    <tr>\n",
       "      <th>0</th>\n",
       "      <td>妊娠期高血压疾病的推荐药有些什么？</td>\n",
       "      <td>川芎嗪联合硫酸镁；钙；低分子肝素钠；硫酸镁加丹参；还原型谷胱甘肽联合肝素；硫酸镁治疗；组织因...</td>\n",
       "      <td>[-0.029837258, 0.008759381, -0.016733877, -0.0...</td>\n",
       "      <td>妊娠期 高血压 疾病 的 推荐 药 有些 什么 ？</td>\n",
       "      <td>0.087203</td>\n",
       "    </tr>\n",
       "    <tr>\n",
       "      <th>1</th>\n",
       "      <td>妊娠高血压的推荐药有些什么？</td>\n",
       "      <td>硫酸镁治疗；中药川芎嗪+硫酸镁；氯沙坦；联合用药；硫酸镁注射液；硫酸镁联合小剂量阿司匹林；硝...</td>\n",
       "      <td>[-0.027922079, 0.010627506, -0.010434828, -0.0...</td>\n",
       "      <td>妊娠 高血压 的 推荐 药 有些 什么 ？</td>\n",
       "      <td>0.114372</td>\n",
       "    </tr>\n",
       "    <tr>\n",
       "      <th>2</th>\n",
       "      <td>中度妊娠期高血压的推荐药有些什么？</td>\n",
       "      <td>硝苯地平联合拉贝洛尔；拉贝洛尔；硝苯地平</td>\n",
       "      <td>[-0.017963426, 0.007346955, -0.03789774, -0.00...</td>\n",
       "      <td>中度 妊娠期 高血压 的 推荐 药 有些 什么 ？</td>\n",
       "      <td>0.225096</td>\n",
       "    </tr>\n",
       "    <tr>\n",
       "      <th>3</th>\n",
       "      <td>高血压症的推荐药有些什么？</td>\n",
       "      <td>六味地黄丸；非洛地平；黄耆；钙通道阻滞剂；降压药；儿茶酚胺；尼卡地平；替米沙坦片；杜仲</td>\n",
       "      <td>[-0.02898131, 0.047892302, -0.017043946, -0.00...</td>\n",
       "      <td>高血压 症 的 推荐 药 有些 什么 ？</td>\n",
       "      <td>0.315659</td>\n",
       "    </tr>\n",
       "    <tr>\n",
       "      <th>4</th>\n",
       "      <td>高血压无糖尿病的推荐药有些什么？</td>\n",
       "      <td>缬沙坦</td>\n",
       "      <td>[-0.012565819, 0.008392007, -0.01837978, -0.02...</td>\n",
       "      <td>高血压 无 糖尿病 的 推荐 药 有些 什么 ？</td>\n",
       "      <td>0.396258</td>\n",
       "    </tr>\n",
       "    <tr>\n",
       "      <th>5</th>\n",
       "      <td>妊娠病的推荐药有些什么？</td>\n",
       "      <td>白芍；阿胶</td>\n",
       "      <td>[-0.06891824, -0.02172745, 0.0016207923, 0.006...</td>\n",
       "      <td>妊娠 病 的 推荐 药 有些 什么 ？</td>\n",
       "      <td>0.413764</td>\n",
       "    </tr>\n",
       "    <tr>\n",
       "      <th>6</th>\n",
       "      <td>肾性高血压的推荐药有些什么？</td>\n",
       "      <td>士茯苓；缬沙坦联合硝苯地平；拜新；卡托普利；施慧达联合替米沙坦；科素亚；氯沙坦；替米沙坦；丙...</td>\n",
       "      <td>[-0.013089769, 0.055687953, -0.022381965, -0.0...</td>\n",
       "      <td>肾性 高血压 的 推荐 药 有些 什么 ？</td>\n",
       "      <td>0.425781</td>\n",
       "    </tr>\n",
       "    <tr>\n",
       "      <th>7</th>\n",
       "      <td>中、高度原发性高血压的推荐药有些什么？</td>\n",
       "      <td>安博诺；拜新；硝苯地平</td>\n",
       "      <td>[-0.0029709935, 0.03314647, -0.026325077, 0.01...</td>\n",
       "      <td>中 、 高度 原发性 高血压 的 推荐 药 有些 什么 ？</td>\n",
       "      <td>0.428327</td>\n",
       "    </tr>\n",
       "    <tr>\n",
       "      <th>8</th>\n",
       "      <td>原发性女性高血压病的推荐药有些什么？</td>\n",
       "      <td>卡托普利</td>\n",
       "      <td>[-0.018945113, 0.06185117, -0.017091446, -0.00...</td>\n",
       "      <td>原发性 女性 高血压病 的 推荐 药 有些 什么 ？</td>\n",
       "      <td>0.446331</td>\n",
       "    </tr>\n",
       "    <tr>\n",
       "      <th>9</th>\n",
       "      <td>血瘀型高血压的推荐药有些什么？</td>\n",
       "      <td>氨氯地平；氨氯地平药物治疗；血府逐瘀汤加减；血府逐瘀汤；丹参注射液</td>\n",
       "      <td>[-0.013250133, 0.028162444, -0.020013556, -0.0...</td>\n",
       "      <td>血瘀 型 高血压 的 推荐 药 有些 什么 ？</td>\n",
       "      <td>0.449114</td>\n",
       "    </tr>\n",
       "  </tbody>\n",
       "</table>\n",
       "</div>"
      ],
      "text/plain": [
       "                 query                                             answer  \\\n",
       "0    妊娠期高血压疾病的推荐药有些什么？  川芎嗪联合硫酸镁；钙；低分子肝素钠；硫酸镁加丹参；还原型谷胱甘肽联合肝素；硫酸镁治疗；组织因...   \n",
       "1       妊娠高血压的推荐药有些什么？  硫酸镁治疗；中药川芎嗪+硫酸镁；氯沙坦；联合用药；硫酸镁注射液；硫酸镁联合小剂量阿司匹林；硝...   \n",
       "2    中度妊娠期高血压的推荐药有些什么？                               硝苯地平联合拉贝洛尔；拉贝洛尔；硝苯地平   \n",
       "3        高血压症的推荐药有些什么？        六味地黄丸；非洛地平；黄耆；钙通道阻滞剂；降压药；儿茶酚胺；尼卡地平；替米沙坦片；杜仲   \n",
       "4     高血压无糖尿病的推荐药有些什么？                                                缬沙坦   \n",
       "5         妊娠病的推荐药有些什么？                                              白芍；阿胶   \n",
       "6       肾性高血压的推荐药有些什么？  士茯苓；缬沙坦联合硝苯地平；拜新；卡托普利；施慧达联合替米沙坦；科素亚；氯沙坦；替米沙坦；丙...   \n",
       "7  中、高度原发性高血压的推荐药有些什么？                                        安博诺；拜新；硝苯地平   \n",
       "8   原发性女性高血压病的推荐药有些什么？                                               卡托普利   \n",
       "9      血瘀型高血压的推荐药有些什么？                  氨氯地平；氨氯地平药物治疗；血府逐瘀汤加减；血府逐瘀汤；丹参注射液   \n",
       "\n",
       "                                              vector  \\\n",
       "0  [-0.029837258, 0.008759381, -0.016733877, -0.0...   \n",
       "1  [-0.027922079, 0.010627506, -0.010434828, -0.0...   \n",
       "2  [-0.017963426, 0.007346955, -0.03789774, -0.00...   \n",
       "3  [-0.02898131, 0.047892302, -0.017043946, -0.00...   \n",
       "4  [-0.012565819, 0.008392007, -0.01837978, -0.02...   \n",
       "5  [-0.06891824, -0.02172745, 0.0016207923, 0.006...   \n",
       "6  [-0.013089769, 0.055687953, -0.022381965, -0.0...   \n",
       "7  [-0.0029709935, 0.03314647, -0.026325077, 0.01...   \n",
       "8  [-0.018945113, 0.06185117, -0.017091446, -0.00...   \n",
       "9  [-0.013250133, 0.028162444, -0.020013556, -0.0...   \n",
       "\n",
       "                        queryseg  _distance  \n",
       "0      妊娠期 高血压 疾病 的 推荐 药 有些 什么 ？   0.087203  \n",
       "1          妊娠 高血压 的 推荐 药 有些 什么 ？   0.114372  \n",
       "2      中度 妊娠期 高血压 的 推荐 药 有些 什么 ？   0.225096  \n",
       "3           高血压 症 的 推荐 药 有些 什么 ？   0.315659  \n",
       "4       高血压 无 糖尿病 的 推荐 药 有些 什么 ？   0.396258  \n",
       "5            妊娠 病 的 推荐 药 有些 什么 ？   0.413764  \n",
       "6          肾性 高血压 的 推荐 药 有些 什么 ？   0.425781  \n",
       "7  中 、 高度 原发性 高血压 的 推荐 药 有些 什么 ？   0.428327  \n",
       "8     原发性 女性 高血压病 的 推荐 药 有些 什么 ？   0.446331  \n",
       "9        血瘀 型 高血压 的 推荐 药 有些 什么 ？   0.449114  "
      ]
     },
     "execution_count": 152,
     "metadata": {},
     "output_type": "execute_result"
    }
   ],
   "source": [
    "data_embed.to_df()"
   ]
  },
  {
   "cell_type": "code",
   "execution_count": null,
   "id": "25e4fed1-a80e-42df-9fcc-e2e153ec31cd",
   "metadata": {},
   "outputs": [],
   "source": []
  },
  {
   "cell_type": "code",
   "execution_count": null,
   "id": "a31617e0-7ee9-4304-977b-5dca0b543b10",
   "metadata": {},
   "outputs": [],
   "source": []
  },
  {
   "cell_type": "code",
   "execution_count": null,
   "id": "6baae535-a1af-415b-9113-70d6783df2ec",
   "metadata": {},
   "outputs": [],
   "source": []
  }
 ],
 "metadata": {
  "kernelspec": {
   "display_name": "Python 3 (ipykernel)",
   "language": "python",
   "name": "python3"
  },
  "language_info": {
   "codemirror_mode": {
    "name": "ipython",
    "version": 3
   },
   "file_extension": ".py",
   "mimetype": "text/x-python",
   "name": "python",
   "nbconvert_exporter": "python",
   "pygments_lexer": "ipython3",
   "version": "3.10.12"
  }
 },
 "nbformat": 4,
 "nbformat_minor": 5
}
