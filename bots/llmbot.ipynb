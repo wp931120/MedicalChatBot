{
 "cells": [
  {
   "cell_type": "code",
   "execution_count": 68,
   "id": "52ce3a68-98fe-4100-b2d6-b17b6ce46758",
   "metadata": {},
   "outputs": [
    {
     "data": {
      "text/plain": [
       "tensor([0, 1, 2, 3, 4, 5, 6, 7])"
      ]
     },
     "execution_count": 68,
     "metadata": {},
     "output_type": "execute_result"
    }
   ],
   "source": [
    "import torch\n",
    "torch.arange(8).long()"
   ]
  },
  {
   "cell_type": "code",
   "execution_count": 1,
   "id": "835bc3ae-3f5e-4c08-8b7a-f7490439755d",
   "metadata": {},
   "outputs": [],
   "source": [
    "import jieba\n",
    "import lancedb\n",
    "uri = \"./data/sample-lancedb\"\n",
    "db = lancedb.connect(uri)"
   ]
  },
  {
   "cell_type": "code",
   "execution_count": 2,
   "id": "66522ecf-dd89-4311-a762-0f2ed1c5cda7",
   "metadata": {},
   "outputs": [],
   "source": [
    "table = db.open_table(\"medical\")"
   ]
  },
  {
   "cell_type": "code",
   "execution_count": 52,
   "id": "40352b8e-2100-4cde-a1a2-b24f201af6dd",
   "metadata": {},
   "outputs": [],
   "source": [
    "question = \"请问冠心病怎么治\""
   ]
  },
  {
   "cell_type": "code",
   "execution_count": 53,
   "id": "6b682a7c-f88e-461f-95b5-603fa38d60f1",
   "metadata": {},
   "outputs": [],
   "source": [
    "from sentence_transformers import SentenceTransformer\n",
    "model = SentenceTransformer('BAAI/bge-base-zh-v1.5')\n",
    "embeddings_query = model.encode(question, normalize_embeddings=True)"
   ]
  },
  {
   "cell_type": "code",
   "execution_count": 54,
   "id": "1553fc26-8074-45c1-bf79-bad8b40b94dc",
   "metadata": {},
   "outputs": [],
   "source": [
    "results =  table.search(embeddings_query).limit(3).to_pandas()"
   ]
  },
  {
   "cell_type": "code",
   "execution_count": 55,
   "id": "ce6794b0-5548-477e-b7c5-4273926ac600",
   "metadata": {},
   "outputs": [
    {
     "data": {
      "text/html": [
       "<div>\n",
       "<style scoped>\n",
       "    .dataframe tbody tr th:only-of-type {\n",
       "        vertical-align: middle;\n",
       "    }\n",
       "\n",
       "    .dataframe tbody tr th {\n",
       "        vertical-align: top;\n",
       "    }\n",
       "\n",
       "    .dataframe thead th {\n",
       "        text-align: right;\n",
       "    }\n",
       "</style>\n",
       "<table border=\"1\" class=\"dataframe\">\n",
       "  <thead>\n",
       "    <tr style=\"text-align: right;\">\n",
       "      <th></th>\n",
       "      <th>query</th>\n",
       "      <th>answer</th>\n",
       "      <th>vector</th>\n",
       "      <th>queryseg</th>\n",
       "      <th>_distance</th>\n",
       "    </tr>\n",
       "  </thead>\n",
       "  <tbody>\n",
       "    <tr>\n",
       "      <th>0</th>\n",
       "      <td>冠心病怎么保养啊？，我有冠心病，有点难治，但是医生说平时留意调理还是可以慢慢治疗的，您好冠心...</td>\n",
       "      <td>你好，有冠心病这个疾病，其实是需要有调理的，尤其是控制饮食，不能够吃太多油腻的食物，也不能够...</td>\n",
       "      <td>[0.043754194, -0.01398439, -0.008187677, -0.00...</td>\n",
       "      <td>冠心病 怎么 保养 啊 ？ ， 我 有 冠心病 ， 有点 难治 ， 但是 医生 说 平时 留...</td>\n",
       "      <td>0.449909</td>\n",
       "    </tr>\n",
       "    <tr>\n",
       "      <th>1</th>\n",
       "      <td>谁能说说冠心病怎么办，我单位的一名同事在健康检查中仔细检查出患冠心病，他很纳闷儿他们家族并没...</td>\n",
       "      <td>影响冠心病的因素有很多，下面这几种因素中，请根据日常生活技术及医学知识推测一下哪个是最危险的...</td>\n",
       "      <td>[0.030950908, -0.033846293, 0.022763591, -0.01...</td>\n",
       "      <td>谁 能 说 说 冠心病 怎么办 ， 我 单位 的 一名 同事 在 健康检查 中 仔细检查 出...</td>\n",
       "      <td>0.523649</td>\n",
       "    </tr>\n",
       "    <tr>\n",
       "      <th>2</th>\n",
       "      <td>行冠心病的辅助治疗有些什么？</td>\n",
       "      <td>心脏康复</td>\n",
       "      <td>[-0.0121756075, 0.013376501, -0.008880715, 0.0...</td>\n",
       "      <td>行 冠心病 的 辅助 治疗 有些 什么 ？</td>\n",
       "      <td>0.546783</td>\n",
       "    </tr>\n",
       "  </tbody>\n",
       "</table>\n",
       "</div>"
      ],
      "text/plain": [
       "                                               query  \\\n",
       "0  冠心病怎么保养啊？，我有冠心病，有点难治，但是医生说平时留意调理还是可以慢慢治疗的，您好冠心...   \n",
       "1  谁能说说冠心病怎么办，我单位的一名同事在健康检查中仔细检查出患冠心病，他很纳闷儿他们家族并没...   \n",
       "2                                     行冠心病的辅助治疗有些什么？   \n",
       "\n",
       "                                              answer  \\\n",
       "0  你好，有冠心病这个疾病，其实是需要有调理的，尤其是控制饮食，不能够吃太多油腻的食物，也不能够...   \n",
       "1  影响冠心病的因素有很多，下面这几种因素中，请根据日常生活技术及医学知识推测一下哪个是最危险的...   \n",
       "2                                               心脏康复   \n",
       "\n",
       "                                              vector  \\\n",
       "0  [0.043754194, -0.01398439, -0.008187677, -0.00...   \n",
       "1  [0.030950908, -0.033846293, 0.022763591, -0.01...   \n",
       "2  [-0.0121756075, 0.013376501, -0.008880715, 0.0...   \n",
       "\n",
       "                                            queryseg  _distance  \n",
       "0  冠心病 怎么 保养 啊 ？ ， 我 有 冠心病 ， 有点 难治 ， 但是 医生 说 平时 留...   0.449909  \n",
       "1  谁 能 说 说 冠心病 怎么办 ， 我 单位 的 一名 同事 在 健康检查 中 仔细检查 出...   0.523649  \n",
       "2                              行 冠心病 的 辅助 治疗 有些 什么 ？   0.546783  "
      ]
     },
     "execution_count": 55,
     "metadata": {},
     "output_type": "execute_result"
    }
   ],
   "source": [
    "results"
   ]
  },
  {
   "cell_type": "code",
   "execution_count": 56,
   "id": "dbea599a-0b36-4b1a-b01d-e240d8bf046b",
   "metadata": {},
   "outputs": [],
   "source": [
    "results[\"q_a\"] = results[\"query\"] + \":\" + results[\"answer\"]"
   ]
  },
  {
   "cell_type": "code",
   "execution_count": 57,
   "id": "7a2875cd-e002-477a-a90a-1f52fad379fe",
   "metadata": {},
   "outputs": [],
   "source": [
    "document = \"\\n\".join(results[\"q_a\"].to_list())"
   ]
  },
  {
   "cell_type": "code",
   "execution_count": 61,
   "id": "e846cbb4-0483-48d1-89f6-d1bd3aefc471",
   "metadata": {},
   "outputs": [],
   "source": [
    "\n",
    "PROMPT  =\"\"\"\n",
    "请根据参考资料回答问题\n",
    "要求：\n",
    "1.不要跳出参考资料的范围去回答问题。\n",
    "2.如果参考资料的内容无法回答问题,则告知无法回答\n",
    "3.回答尽量简洁明了\n",
    "\n",
    "参考资料：\n",
    "{}\n",
    "\n",
    "问题：\n",
    "{}\n",
    "\n",
    "请给出你的回答：\n",
    "\"\"\".format(document,question)"
   ]
  },
  {
   "cell_type": "code",
   "execution_count": 62,
   "id": "baca53c4-0c0d-43f2-92da-8d295f09dde6",
   "metadata": {},
   "outputs": [
    {
     "data": {
      "text/plain": [
       "'\\n请根据参考资料回答问题\\n要求：\\n1.不要跳出参考资料的范围去回答问题。\\n2.如果参考资料的内容无法回答问题,则告知无法回答\\n3.回答尽量简洁明了\\n\\n参考资料：\\n冠心病怎么保养啊？，我有冠心病，有点难治，但是医生说平时留意调理还是可以慢慢治疗的，您好冠心病怎么调理啊？:你好，有冠心病这个疾病，其实是需要有调理的，尤其是控制饮食，不能够吃太多油腻的食物，也不能够吃太多辛辣刺激的食物，而且有冠心病的患者还应该是留意不能够让自己有太大的情绪震荡，也不要让身体太太过疲劳，您平时也可以决定用一些丹参之类的药物泡水。\\n谁能说说冠心病怎么办，我单位的一名同事在健康检查中仔细检查出患冠心病，他很纳闷儿他们家族并没有冠心病史，为什么会得冠心病呢？有哪些影响因素呢？:影响冠心病的因素有很多，下面这几种因素中，请根据日常生活技术及医学知识推测一下哪个是最危险的影响因素？一是抽烟，二是喝酒，三是活动，四是情绪激动，冠心病最主要的危险因素首先冠心病是由于冠状动脉粥样硬化、冠状动脉炎或者是冠状动脉痉挛引发的一种临床诊断综合征，它的主要特点是心肌的脑水肿缺氧。生气时情绪激动，容易引发心血管的剧烈疼痛，引起冠心病，因此情绪激动，性格暴躁，是冠心病的重要的危险因素。\\n行冠心病的辅助治疗有些什么？:心脏康复\\n\\n问题：\\n请问冠心病怎么治\\n\\n请给出你的回答：\\n'"
      ]
     },
     "execution_count": 62,
     "metadata": {},
     "output_type": "execute_result"
    }
   ],
   "source": [
    "PROMPT"
   ]
  },
  {
   "cell_type": "code",
   "execution_count": 65,
   "id": "2c6068f8-1147-4ae0-9e98-79b3c5eb8802",
   "metadata": {},
   "outputs": [],
   "source": [
    "from openai import OpenAI\n",
    "\n",
    "client = OpenAI(\n",
    "    base_url=\"http://10.193.64.236:8000/v1\",\n",
    "    api_key = \"none\"\n",
    ")\n",
    "\n",
    "chat_completion = client.chat.completions.create(\n",
    "    messages=[\n",
    "        {\n",
    "            \"role\": \"user\",\n",
    "            \"content\": PROMPT,\n",
    "        }\n",
    "    ],\n",
    "    max_tokens = 1000,\n",
    "    model=\"gpt-3.5-turbo\",\n",
    ")"
   ]
  },
  {
   "cell_type": "code",
   "execution_count": 66,
   "id": "95718f90-7ee2-41d0-b1c9-37b7e7df3679",
   "metadata": {},
   "outputs": [],
   "source": [
    "response = chat_completion.choices[0].message.content"
   ]
  },
  {
   "cell_type": "code",
   "execution_count": 67,
   "id": "3274bb38-f34e-4587-9e0d-f18dc7fbdd2e",
   "metadata": {},
   "outputs": [
    {
     "name": "stdout",
     "output_type": "stream",
     "text": [
      "根据参考资料，冠心病的治疗方法包括药物治疗和生活方式调整。对于药物治疗，可以选择使用丹参等药物来帮助改善症状。而在生活方式上，需要注意以下几点：\n",
      "\n",
      "1. 控制饮食：避免过多摄入油腻和辛辣食物，保持低盐、低脂的饮食习惯。\n",
      "2. 保持良好的作息：保证充足的睡眠，避免过度劳累。\n",
      "3. 管理情绪：保持心态平和，避免情绪波动过大。\n",
      "4. 适当运动：进行适量的有氧运动，如散步、慢跑等，以增强心肺功能。\n",
      "5. 戒烟限酒：避免吸烟和过量饮酒，这对降低冠心病的风险非常重要。\n",
      "\n",
      "此外，还可以考虑进行心脏康复训练，以提高生活质量并降低病情恶化的风险。总之，冠心病的治疗需要长期坚持，通过药物治疗和生活方式调整相结合，才能有效地控制病情。\n"
     ]
    }
   ],
   "source": [
    "print(response)"
   ]
  },
  {
   "cell_type": "code",
   "execution_count": null,
   "id": "59aaa6cf-790e-4919-a294-9ec4e32f2418",
   "metadata": {},
   "outputs": [],
   "source": []
  }
 ],
 "metadata": {
  "kernelspec": {
   "display_name": "Python 3 (ipykernel)",
   "language": "python",
   "name": "python3"
  },
  "language_info": {
   "codemirror_mode": {
    "name": "ipython",
    "version": 3
   },
   "file_extension": ".py",
   "mimetype": "text/x-python",
   "name": "python",
   "nbconvert_exporter": "python",
   "pygments_lexer": "ipython3",
   "version": "3.10.12"
  }
 },
 "nbformat": 4,
 "nbformat_minor": 5
}
