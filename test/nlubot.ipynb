{
 "cells": [
  {
   "cell_type": "code",
   "execution_count": 134,
   "id": "c7ad36cd-b4ac-4d4f-80b9-c47c5650ff39",
   "metadata": {},
   "outputs": [],
   "source": [
    "from pprint import pprint\n",
    "from paddlenlp import Taskflow\n",
    "\n",
    "class SlotFiller:\n",
    "    def __init__(self):\n",
    "        self.slot = {\n",
    "            \"intent\":None,\n",
    "            \"intent_score\":None,\n",
    "            \"entitys\":{}\n",
    "        }\n",
    "        self.entity_schema = ['药物', '症状', '疾病'] \n",
    "        self.intent_schema = [\"疾病的防御措施\", \"疾病产生的原因\", \"患病该吃什么药\",\"疾病的症状\",\"药物能治疗什么病\",\"其他\"]\n",
    "        self.entity_extract = Taskflow('information_extraction', schema=self.entity_schema)\n",
    "        self.intent_cls = Taskflow(\"zero_shot_text_classification\", model=\"utc-base\", schema=self.intent_schema)\n",
    "    def get_slot(self,text):\n",
    "        entitys = self.entity_extract(text)\n",
    "        intent =  self.intent_cls(text)\n",
    "        if intent is not None and len(intent[0][\"predictions\"]) > 0:\n",
    "            if  self.slot[\"intent\"] != intent[0][\"predictions\"][0][\"label\"]:\n",
    "                self.slot[\"intent\"] = intent[0][\"predictions\"][0][\"label\"]\n",
    "                self.slot[\"intent_score\"] = intent[0][\"predictions\"][0][\"score\"]\n",
    "        if entitys is not None:\n",
    "            for i in entitys[0].items():\n",
    "                 self.slot[\"entitys\"][i[0]] = {i[1][0][\"text\"]:{i[1][0][\"probability\"]}}\n",
    "        return  self.slot\n",
    "\n",
    "\n",
    "\n",
    "class SqlParser:\n",
    "    def __init__(self):\n",
    "        pass\n",
    "\n",
    "    def parse(self,slot):\n",
    "        if slot[\"intent\"] == \"其他\":\n",
    "            return \n",
    "        if slot[\"intent\"] == \"疾病的症状\":\n",
    "            if '疾病' in slot[\"entitys\"].keys():\n",
    "                entity =  list(slotins[\"entitys\"]['疾病'].keys())[0]\n",
    "                return \"MATCH (m:Disease)-[r:has_symptom]->(n:Symptom) where m.name = '{}' return m.name, n.name\".format(entity)\n",
    "        if slot[\"intent\"] == \"疾病的防御措施\":\n",
    "            if '疾病' in slot[\"entitys\"].keys():\n",
    "                entity =  list(slotins[\"entitys\"]['疾病'].keys())[0]\n",
    "                return \"MATCH (m:Disease) where m.name = '{}' return m.name, m.prevent\".format(entity)\n",
    "        if slot[\"intent\"] == \"疾病产生的原因\":\n",
    "             if '疾病' in slot[\"entitys\"].keys():\n",
    "                entity =  list(slotins[\"entitys\"]['疾病'].keys())[0]\n",
    "                return \"MATCH (m:Disease) where m.name = '{}' return m.name, m.cause\".format(entity)\n",
    "        if slot[\"intent\"] == \"患病该吃什么药\":\n",
    "             if '疾病' in slot[\"entitys\"].keys():\n",
    "                entity =  list(slotins[\"entitys\"]['疾病'].keys())[0]\n",
    "                return \"MATCH (m:Disease)-[r:common_drug]->(n:Drug) where m.name = '{}' return m.name, n.name\".format(entity)\n",
    "        if slot[\"intent\"] == \"药物能治疗什么病\":\n",
    "             if '药物' in slot[\"entitys\"].keys():\n",
    "                entity =  list(slotins[\"entitys\"]['药物'].keys())[0]\n",
    "                return \"MATCH (m:Disease)-[r:common_drug]->(n:Drug) where n.name = '{}' return m.name, r.name, n.name\".format(entity)"
   ]
  },
  {
   "cell_type": "code",
   "execution_count": 135,
   "id": "9e304caf-4b0e-4545-b28a-67c8cf7a9379",
   "metadata": {},
   "outputs": [
    {
     "name": "stderr",
     "output_type": "stream",
     "text": [
      "\u001b[32m[2023-11-06 15:25:24,078] [    INFO]\u001b[0m - We are using <class 'paddlenlp.transformers.ernie.tokenizer.ErnieTokenizer'> to load 'C:\\Users\\131655\\.paddlenlp\\taskflow\\information_extraction\\uie-base'.\u001b[0m\n",
      "\u001b[32m[2023-11-06 15:25:25,101] [    INFO]\u001b[0m - We are using <class 'paddlenlp.transformers.ernie.tokenizer.ErnieTokenizer'> to load 'C:\\Users\\131655\\.paddlenlp\\taskflow\\zero_shot_text_classification\\utc-base'.\u001b[0m\n",
      "\u001b[32m[2023-11-06 15:25:25,135] [    INFO]\u001b[0m - Assigning ['[O-MASK]'] to the additional_special_tokens key of the tokenizer\u001b[0m\n"
     ]
    }
   ],
   "source": [
    "slotf = SlotFiller()"
   ]
  },
  {
   "cell_type": "code",
   "execution_count": 148,
   "id": "d3606a90-6734-4b20-9625-34aa9346f418",
   "metadata": {},
   "outputs": [
    {
     "name": "stdout",
     "output_type": "stream",
     "text": [
      "{'intent': '患病该吃什么药', 'intent_score': 0.9446698357853085, 'entitys': {'疾病': {'高血压': {0.8261676259649207}}, '药物': {'厄贝沙坦片': {0.969891415250288}}}}\n",
      "MATCH (m:Disease)-[r:common_drug]->(n:Drug) where m.name = '高血压' return m.name, n.name\n"
     ]
    }
   ],
   "source": [
    "slotins = slotf.get_slot(\"我高血压，该吃啥药\")\n",
    "print(slotins)\n",
    "sqlp = SqlParser()\n",
    "sql = sqlp.parse(slotins)\n",
    "print(sql)"
   ]
  },
  {
   "cell_type": "code",
   "execution_count": 137,
   "id": "c07b1657-914e-4326-bf20-8ba11b5f5d8f",
   "metadata": {},
   "outputs": [
    {
     "name": "stdout",
     "output_type": "stream",
     "text": [
      "{'intent': '疾病的症状', 'intent_score': 0.8013479716695394, 'entitys': {'疾病': {'高血压': {0.7640298965737031}}}}\n",
      "MATCH (m:Disease)-[r:has_symptom]->(n:Symptom) where m.name = '高血压' return m.name, n.name\n"
     ]
    }
   ],
   "source": [
    "slotins = slotf.get_slot(\"高血压呢\")\n",
    "print(slotins)\n",
    "sqlp = SqlParser()\n",
    "sql = sqlp.parse(slotins)\n",
    "print(sql)"
   ]
  },
  {
   "cell_type": "code",
   "execution_count": 139,
   "id": "121f408d-a483-4271-a6de-bd13ef700c64",
   "metadata": {},
   "outputs": [
    {
     "name": "stdout",
     "output_type": "stream",
     "text": [
      "{'intent': '患病该吃什么药', 'intent_score': 0.9286933121028708, 'entitys': {'疾病': {'急性胃炎': {0.9604805477728178}}}}\n",
      "MATCH (m:Disease)-[r:common_drug]->(n:Drug) where m.name = '急性胃炎' return m.name, n.name\n"
     ]
    }
   ],
   "source": [
    "slotins = slotf.get_slot(\"急性胃炎吃什么药\")\n",
    "print(slotins)\n",
    "sqlp = SqlParser()\n",
    "sql = sqlp.parse(slotins)\n",
    "print(sql)"
   ]
  },
  {
   "cell_type": "code",
   "execution_count": 161,
   "id": "ff893f7f-370b-4622-ae24-6a63172aa13e",
   "metadata": {},
   "outputs": [
    {
     "name": "stdout",
     "output_type": "stream",
     "text": [
      "{'intent': '药物能治疗什么病', 'intent_score': 0.8591247398489691, 'entitys': {'疾病': {'高血压': {0.8261676259649207}}, '药物': {'富马酸喹硫平片': {0.9567390025445448}}}}\n",
      "MATCH (m:Disease)-[r:common_drug]->(n:Drug) where n.name = '富马酸喹硫平片' return m.name, r.name, n.name\n"
     ]
    }
   ],
   "source": [
    "slotins = slotf.get_slot(\"富马酸喹硫平片可以治疗什么病\")\n",
    "print(slotins)\n",
    "sqlp = SqlParser()\n",
    "sql = sqlp.parse(slotins)\n",
    "print(sql)"
   ]
  },
  {
   "cell_type": "code",
   "execution_count": 162,
   "id": "2af5e1a1-ce9b-424d-832b-0291fe991868",
   "metadata": {},
   "outputs": [],
   "source": [
    "from py2neo import Graph,Node\n",
    "g = Graph(\"bolt://localhost:7687\", auth=(\"neo4j\", \"12345678\"))"
   ]
  },
  {
   "cell_type": "code",
   "execution_count": 163,
   "id": "91dc13ab-e840-4c81-b880-1887f545af92",
   "metadata": {},
   "outputs": [
    {
     "data": {
      "text/html": [
       "<table><tr><th>m.name</th><th>r.name</th><th>n.name</th></tr><tr><td style=\"text-align:left\">旅途精神病</td><td style=\"text-align:left\">常用药品</td><td style=\"text-align:left\">富马酸喹硫平片</td></tr><tr><td style=\"text-align:left\">露阴癖</td><td style=\"text-align:left\">常用药品</td><td style=\"text-align:left\">富马酸喹硫平片</td></tr><tr><td style=\"text-align:left\">急性应激反应</td><td style=\"text-align:left\">常用药品</td><td style=\"text-align:left\">富马酸喹硫平片</td></tr></table>"
      ],
      "text/plain": [
       " m.name | r.name | n.name  \n",
       "--------|--------|---------\n",
       " 旅途精神病  | 常用药品   | 富马酸喹硫平片 \n",
       " 露阴癖    | 常用药品   | 富马酸喹硫平片 \n",
       " 急性应激反应 | 常用药品   | 富马酸喹硫平片 "
      ]
     },
     "execution_count": 163,
     "metadata": {},
     "output_type": "execute_result"
    }
   ],
   "source": [
    "g.run(sql)"
   ]
  },
  {
   "cell_type": "code",
   "execution_count": 164,
   "id": "f59ea8ea-d1b6-4b88-99b5-4ebe7c3036cf",
   "metadata": {},
   "outputs": [
    {
     "data": {
      "text/plain": [
       "\"MATCH (m:Disease)-[r:common_drug]->(n:Drug) where n.name = '富马酸喹硫平片' return m.name, r.name, n.name\""
      ]
     },
     "execution_count": 164,
     "metadata": {},
     "output_type": "execute_result"
    }
   ],
   "source": [
    "sql"
   ]
  },
  {
   "cell_type": "code",
   "execution_count": null,
   "id": "c2962198-acf1-4f25-be7a-d03d50240db2",
   "metadata": {},
   "outputs": [],
   "source": []
  }
 ],
 "metadata": {
  "kernelspec": {
   "display_name": "Python 3 (ipykernel)",
   "language": "python",
   "name": "python3"
  },
  "language_info": {
   "codemirror_mode": {
    "name": "ipython",
    "version": 3
   },
   "file_extension": ".py",
   "mimetype": "text/x-python",
   "name": "python",
   "nbconvert_exporter": "python",
   "pygments_lexer": "ipython3",
   "version": "3.10.12"
  }
 },
 "nbformat": 4,
 "nbformat_minor": 5
}
